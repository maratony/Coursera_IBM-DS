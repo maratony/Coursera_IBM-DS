{
 "cells": [
  {
   "cell_type": "markdown",
   "id": "8999c213-d51a-476e-ac77-92390684a698",
   "metadata": {
    "jupyter": {
     "source_hidden": true
    }
   },
   "source": [
    "Create markdown cell with title of the notebook."
   ]
  },
  {
   "cell_type": "markdown",
   "id": "cc8483da-b6a7-45df-86c4-40fdf973fb36",
   "metadata": {},
   "source": [
    "# Data Science Tools and Ecosystem"
   ]
  },
  {
   "cell_type": "markdown",
   "id": "8a2d9fe4-d285-450d-b1c5-8aa0b6e1a5f0",
   "metadata": {
    "jupyter": {
     "source_hidden": true
    }
   },
   "source": [
    "Create a markdown cell for an introduction."
   ]
  },
  {
   "cell_type": "markdown",
   "id": "bd92e1ba-ce96-44f3-8625-39a9b890cd0a",
   "metadata": {},
   "source": [
    "## A brief summary about data science tools and ecosystem."
   ]
  },
  {
   "cell_type": "code",
   "execution_count": null,
   "id": "cc1a4ad4-f93b-421e-8f32-e0ed5a984392",
   "metadata": {
    "jupyter": {
     "source_hidden": true
    }
   },
   "outputs": [],
   "source": [
    "Insert a markdown cell to list Objectives."
   ]
  },
  {
   "cell_type": "markdown",
   "id": "0fdc3c56-e682-4711-9592-783aa861725e",
   "metadata": {},
   "source": [
    "**Objectives:**\n",
    "- Often used programming languages\n",
    "- Most common libraries\n",
    "- Data science tools\n",
    "- Examples of evaluating arithmetic expressions"
   ]
  },
  {
   "cell_type": "markdown",
   "id": "d368a307-f6e1-4e6f-90a3-c0a72b09866b",
   "metadata": {
    "jupyter": {
     "source_hidden": true
    }
   },
   "source": [
    "Create a markdown cell t data science languages."
   ]
  },
  {
   "cell_type": "markdown",
   "id": "52c5fac5-2ee9-4b97-88c1-a9514e90e65a",
   "metadata": {},
   "source": [
    "Data scientists often use programming languages such as:\n",
    "1. Python\n",
    "2. Java\n",
    "3. R"
   ]
  },
  {
   "cell_type": "markdown",
   "id": "e63991b1-501e-409e-aeb1-0c355c0c861b",
   "metadata": {
    "jupyter": {
     "source_hidden": true
    }
   },
   "source": [
    "Create a markdown cell to list data science libraries."
   ]
  },
  {
   "cell_type": "markdown",
   "id": "c24d636f-2ff9-4460-a7e0-00ef4d0f147a",
   "metadata": {},
   "source": [
    "Here are some of the most common libraries used by data scientist:\n",
    "1. NumPy\n",
    "2. MatPlotLib\n",
    "3. Pandas"
   ]
  },
  {
   "cell_type": "code",
   "execution_count": null,
   "id": "c31b41fe-68f4-4ef1-9db7-8d3028abdb76",
   "metadata": {
    "jupyter": {
     "source_hidden": true
    }
   },
   "outputs": [],
   "source": [
    "Create a markdown cell with a table of Data Science tools."
   ]
  },
  {
   "cell_type": "markdown",
   "id": "28b34685-213a-4955-9a25-7b10949e9a98",
   "metadata": {},
   "source": [
    "| Data Science Tools |\n",
    "|---------------|\n",
    "| RStudio |\n",
    "| Apache Spark |\n",
    "| TensorFlow |"
   ]
  },
  {
   "cell_type": "markdown",
   "id": "44a25f01-38c4-4a6f-bc16-28d34bfed537",
   "metadata": {
    "jupyter": {
     "source_hidden": true
    }
   },
   "source": [
    "Create a markdown cell introducing arithmetic expression examples."
   ]
  },
  {
   "cell_type": "markdown",
   "id": "81997628-0c64-48a6-b0ee-143019e12e08",
   "metadata": {},
   "source": [
    "### Examples of evaluating arithmetic expressions in Python:\n",
    "\n"
   ]
  },
  {
   "cell_type": "markdown",
   "id": "8f4752df-ff4d-4543-9e2e-8dcce585fccf",
   "metadata": {
    "jupyter": {
     "source_hidden": true
    }
   },
   "source": [
    "Create a code cell to multiply and add numbers."
   ]
  },
  {
   "cell_type": "code",
   "execution_count": null,
   "id": "3d847f35-f0f9-45af-90ff-da6cd8974d47",
   "metadata": {},
   "outputs": [],
   "source": [
    "# This a simple arithmetic expression to mutiply then add integers.\n",
    "x = (3*4)+5\n",
    "result = x\n",
    "print(result)"
   ]
  },
  {
   "cell_type": "markdown",
   "id": "034d087d-07fc-43b2-99fc-74558872f7c3",
   "metadata": {
    "jupyter": {
     "source_hidden": true
    }
   },
   "source": [
    "Create a code cell to convert minutes to hours."
   ]
  },
  {
   "cell_type": "code",
   "execution_count": null,
   "id": "fd258bf7-dd19-4a0b-b64c-a7b70248363e",
   "metadata": {},
   "outputs": [],
   "source": [
    "# This will convert 200 minutes to hours by diving by 60.\n",
    "minutes = 200\n",
    "hours = x\n",
    "x = 200/60\n",
    "print(hours)"
   ]
  },
  {
   "cell_type": "markdown",
   "id": "8bc62f47-85c9-462e-ae3f-36a91daab8be",
   "metadata": {
    "jupyter": {
     "source_hidden": true
    }
   },
   "source": [
    "Create a markdown cell to indicate the Author's name."
   ]
  },
  {
   "cell_type": "markdown",
   "id": "ec245bea-7869-4741-bbc9-aa8164c4f099",
   "metadata": {},
   "source": [
    "## Author\n",
    "Márton Gábor Papp"
   ]
  }
 ],
 "metadata": {
  "kernelspec": {
   "display_name": "Python 3 (ipykernel)",
   "language": "python",
   "name": "python3"
  },
  "language_info": {
   "codemirror_mode": {
    "name": "ipython",
    "version": 3
   },
   "file_extension": ".py",
   "mimetype": "text/x-python",
   "name": "python",
   "nbconvert_exporter": "python",
   "pygments_lexer": "ipython3",
   "version": "3.12.8"
  }
 },
 "nbformat": 4,
 "nbformat_minor": 5
}
